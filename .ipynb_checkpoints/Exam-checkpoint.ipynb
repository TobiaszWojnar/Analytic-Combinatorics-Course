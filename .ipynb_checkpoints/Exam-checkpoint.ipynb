{
 "cells": [
  {
   "cell_type": "markdown",
   "metadata": {},
   "source": [
    "# Exam\n",
    "---\n",
    "## Introductory to analytic combinatorics course at Wroclaw University of Science and Technology 2020/2021\n",
    "---\n",
    "## Date: \n",
    "21.12.2020"
   ]
  },
  {
   "cell_type": "markdown",
   "metadata": {},
   "source": [
    "### Exercise 1 (1 points)\n",
    "#### Let $\\mathcal{A}=(A,||)$, where $A=\\{a,b\\}$, $|a|=1$ and $|b|=2$ .  What is the OGF for class $Cyc(\\mathcal{A})$ and $PSet(\\mathcal{A})$."
   ]
  },
  {
   "cell_type": "markdown",
   "metadata": {},
   "source": []
  },
  {
   "cell_type": "markdown",
   "metadata": {},
   "source": [
    "### Exercise 2 (1 points)\n",
    "#### Let $\\mathcal{A}=(A,||)$, where $A=\\{a,b\\}$, $|a|=1$ and $|b|=2$ .  What is the OGF for class $Cyc(\\mathcal{A})$ and $PSet(\\mathcal{A})$."
   ]
  },
  {
   "cell_type": "markdown",
   "metadata": {},
   "source": []
  },
  {
   "cell_type": "markdown",
   "metadata": {},
   "source": [
    "### Exercise 3 (1 points)\n",
    "#### Let $\\mathcal{A}=(A,||)$, where $A=\\{a,b\\}$, $|a|=1$ and $|b|=2$ .  What is the OGF for class $Cyc(\\mathcal{A})$ and $PSet(\\mathcal{A})$."
   ]
  },
  {
   "cell_type": "markdown",
   "metadata": {},
   "source": []
  },
  {
   "cell_type": "markdown",
   "metadata": {},
   "source": [
    "### Exercise 4 (1 points)\n",
    "#### Let $\\mathcal{A}=(A,||)$, where $A=\\{a,b\\}$, $|a|=1$ and $|b|=2$ .  What is the OGF for class $Cyc(\\mathcal{A})$ and $PSet(\\mathcal{A})$."
   ]
  },
  {
   "cell_type": "markdown",
   "metadata": {},
   "source": []
  },
  {
   "cell_type": "markdown",
   "metadata": {},
   "source": [
    "### Exercise 5 (1 points)\n",
    "#### Let $\\mathcal{A}=(A,||)$, where $A=\\{a,b\\}$, $|a|=1$ and $|b|=2$ .  What is the OGF for class $Cyc(\\mathcal{A})$ and $PSet(\\mathcal{A})$."
   ]
  },
  {
   "cell_type": "markdown",
   "metadata": {},
   "source": []
  },
  {
   "cell_type": "markdown",
   "metadata": {},
   "source": [
    "### Exercise 6 (1 points)\n",
    "#### Let $\\mathcal{A}=(A,||)$, where $A=\\{a,b\\}$, $|a|=1$ and $|b|=2$ .  What is the OGF for class $Cyc(\\mathcal{A})$ and $PSet(\\mathcal{A})$."
   ]
  },
  {
   "cell_type": "markdown",
   "metadata": {},
   "source": []
  },
  {
   "cell_type": "markdown",
   "metadata": {},
   "source": [
    "### Exercise 7 (1 points)\n",
    "#### Let $\\mathcal{A}=(A,||)$, where $A=\\{a,b\\}$, $|a|=1$ and $|b|=2$ .  What is the OGF for class $Cyc(\\mathcal{A})$ and $PSet(\\mathcal{A})$."
   ]
  },
  {
   "cell_type": "markdown",
   "metadata": {},
   "source": []
  },
  {
   "cell_type": "markdown",
   "metadata": {},
   "source": [
    "### Exercise 8 (1 points)\n",
    "#### Let $\\mathcal{A}=(A,||)$, where $A=\\{a,b\\}$, $|a|=1$ and $|b|=2$ .  What is the OGF for class $Cyc(\\mathcal{A})$ and $PSet(\\mathcal{A})$."
   ]
  },
  {
   "cell_type": "markdown",
   "metadata": {},
   "source": []
  },
  {
   "cell_type": "markdown",
   "metadata": {},
   "source": [
    "### Exercise 9 (1 points)\n",
    "#### Let $\\mathcal{A}=(A,||)$, where $A=\\{a,b\\}$, $|a|=1$ and $|b|=2$ .  What is the OGF for class $Cyc(\\mathcal{A})$ and $PSet(\\mathcal{A})$."
   ]
  },
  {
   "cell_type": "markdown",
   "metadata": {},
   "source": []
  },
  {
   "cell_type": "markdown",
   "metadata": {},
   "source": [
    "### Exercise 10 (1 points)\n",
    "#### Let $\\mathcal{A}=(A,||)$, where $A=\\{a,b\\}$, $|a|=1$ and $|b|=2$ .  What is the OGF for class $Cyc(\\mathcal{A})$ and $PSet(\\mathcal{A})$."
   ]
  },
  {
   "cell_type": "markdown",
   "metadata": {},
   "source": []
  }
 ],
 "metadata": {
  "kernelspec": {
   "display_name": "Python 3",
   "language": "python",
   "name": "python3"
  },
  "language_info": {
   "codemirror_mode": {
    "name": "ipython",
    "version": 3
   },
   "file_extension": ".py",
   "mimetype": "text/x-python",
   "name": "python",
   "nbconvert_exporter": "python",
   "pygments_lexer": "ipython3",
   "version": "3.8.3"
  }
 },
 "nbformat": 4,
 "nbformat_minor": 4
}
