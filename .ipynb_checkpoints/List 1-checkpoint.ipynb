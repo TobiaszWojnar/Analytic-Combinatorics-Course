{
 "cells": [
  {
   "cell_type": "markdown",
   "metadata": {},
   "source": [
    "# List 1\n",
    "---\n",
    "## Advanced combinatorics course at Wroclaw University of Science and Technology 2020/2021\n",
    "---"
   ]
  },
  {
   "cell_type": "markdown",
   "metadata": {},
   "source": [
    "### Exercise 1 (5 points)\n",
    "#### Let $\\mathcal{L}$ be the language over the alphabet $\\{a, b, c\\}$ composed of words that contain pattern $acac$. Describe the appropriate finite automata and present the `OFG` for $\\mathcal{L}$."
   ]
  }
 ],
 "metadata": {
  "kernelspec": {
   "display_name": "Python 3",
   "language": "python",
   "name": "python3"
  },
  "language_info": {
   "codemirror_mode": {
    "name": "ipython",
    "version": 3
   },
   "file_extension": ".py",
   "mimetype": "text/x-python",
   "name": "python",
   "nbconvert_exporter": "python",
   "pygments_lexer": "ipython3",
   "version": "3.7.8"
  }
 },
 "nbformat": 4,
 "nbformat_minor": 4
}
