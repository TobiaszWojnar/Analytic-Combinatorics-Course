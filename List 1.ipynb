{
 "cells": [
  {
   "cell_type": "markdown",
   "metadata": {},
   "source": [
    "# List 1\n",
    "---\n",
    "## Advanced combinatorics course at Wroclaw University of Science and Technology 2020/2021\n",
    "---"
   ]
  },
  {
   "cell_type": "markdown",
   "metadata": {},
   "source": [
    "### Exercise 1 (1 points)\n",
    "#### Sequence ($a_1,a_2,...$) corresponds to the generating function $A(z)$. Calculate sequences corresponding to:"
   ]
  },
  {
   "cell_type": "markdown",
   "metadata": {},
   "source": [
    "#### 1. $A'(z)+A(z)$,\n",
    "Let consider how $A(z)$ looks:\n",
    "$$A(z) = \\sum_{n=0}^{\\infty}a_n*z^n$$\n",
    "Knowing that let's see what is $A'(z)$\n",
    "$$A'(z) = (\\sum_{n=0}^{\\infty}a_n*z^n)'$$\n",
    "$$(a_n*z^n)'=n*a_n*z^{n-1}$$\n",
    "$$A'(z) = \\sum_{n=1}^{\\infty}n*a_n*z^{n-1}=\\sum_{n=0}^{\\infty}(n+1)*a_{n+1}*z^{n}$$\n",
    "So finaly\n",
    "$$A'(z)+A(z)=\\sum_{n=0}^{\\infty}(n+1)*a_{n+1}*z^{n}+\\sum_{n=0}^{\\infty}a_n*z^n = \\sum_{n=0}^{\\infty}(a_n+(n+1)*a_{n+1})*z^n$$"
   ]
  },
  {
   "cell_type": "markdown",
   "metadata": {},
   "source": [
    "#### 2.  $2A(z)$,\n",
    "$$2A(z) = 2*(\\sum_{n=0}^{\\infty}a_n*z^n)$$\n",
    "$$2A(z) = (\\sum_{n=0}^{\\infty}2*a_n*z^n)$$"
   ]
  },
  {
   "cell_type": "markdown",
   "metadata": {},
   "source": [
    "#### 3.  $A^2(z)$\n",
    "$$A^2(z)= (\\sum_{n=0}^{\\infty}a_n*z^n)*(\\sum_{n=0}^{\\infty}a_n*z^n) =$$\n",
    "$$\\sum_{n=0}^{\\infty}\\sum_{m=0}^{n}a_n*a_m*z^n$$"
   ]
  },
  {
   "cell_type": "markdown",
   "metadata": {},
   "source": [
    "### Exercise 2 (3 points)\n",
    "#### Let $\\mathcal{A}=(\\{\\epsilon,1,2,*\\},|\\cdot|)$ and $\\mathcal{B}=(\\{a\\},\\{a\\rightarrow1\\})$ be combinatorial class. Where $\\|\\epsilon|=0,|1|=1,|2|=2,|*|=5$.\n",
    "#### Describe the following classes (if they exist) and their generating functions:\n",
    "#### (a)  $\\mathcal{A+B}$,\n",
    "Sum of classes.\n",
    "$$\\mathcal{A+B}=(\\{\\epsilon,1,a,2,*\\},|\\cdot|)$$\n",
    "$$\\mathcal{A+B}(z)=\\mathcal{A}(z)+\\mathcal{B}(z)$$\n",
    "$$\\mathcal{A+B}(z)=1+z+z^2+z^5+z=1+2z+z^2+z^5$$\n",
    "\n",
    "#### (b)  $\\mathcal{A\\times B}$,\n",
    "Cartesian product of classes\n",
    "$$\\mathcal{A\\times B}=(\\{(\\epsilon,a),(1,a),(2,a),(*,a)\\},|\\cdot|)$$\n",
    "$$\\mathcal{A\\times B}(z)=\\mathcal{A}(z)\\cdot\\mathcal{B}(z)=z+z^2+z^3+z^6$$\n",
    "\n",
    "#### (c)  $Seq(\\mathcal{A})$,\n",
    "Does not exists because $\\mathcal{A}_0 = 0$\n",
    "\n",
    "#### (d)  $Seq(\\mathcal{B})$,\n",
    "$Seq(\\mathcal{B})$ is basicly $\\mathbb{N}$ - all natural numbers\n",
    "$$Seq(\\mathcal{B})(z)=\\frac{1}{1-\\mathcal{B}(z)}=\\frac{1}{1-z}=\\sum_{n=0}^{\\infty}z^n$$\n",
    "\n",
    "#### (e)  $Seq(\\mathcal{A+B})$,\n",
    "Does not exists because $\\mathcal{A}_0 = 0$\n",
    "\n",
    "#### (f)  $Seq(\\mathcal{A})+Seq(\\mathcal{B})$,\n",
    "Does not exists because $\\mathcal{A}_0 = 0$\n",
    "\n",
    "#### (g)  $MSet(\\mathcal{B})$,\n",
    "Multiset of $\\mathcal{B}$\n",
    "$$MSet(\\mathcal{B})(z)=\\prod_{n>=1}(1-z^n)^{B_n} $$\n",
    "Remembering that $\\mathcal{B}(z)=z$, $B_1 = 1$ and for all others $B_n = 0$ \n",
    "$$MSet(\\mathcal{B})(z)=(1-z)^{-1}*1=\\frac{1}{1-z}$$\n",
    "And that equals to $\\mathbb{N}(z)=\\sum_{n=0}^\\infty z^n$\n",
    "\n",
    "#### (h)  $PSet(\\mathcal{A})+PSet(\\mathcal{B})$,\n",
    "\n",
    "#### (i)  $Cyc(\\mathcal{A})$\n",
    "Does not exists because $\\mathcal{A}_0 = 0$"
   ]
  },
  {
   "cell_type": "markdown",
   "metadata": {},
   "source": [
    "### Exercise 3 (1 points)\n",
    "#### When defining $Seq(\\mathcal{A})$ we assumed that $[z^0]A(z)=0$. Why?\n",
    "\n",
    "By defitiotion $A(z)$ can be expressed as $\\sum_{n=0}^\\infty a_n*z^n$ where $a_n$ was an "
   ]
  },
  {
   "cell_type": "code",
   "execution_count": null,
   "metadata": {},
   "outputs": [],
   "source": []
  }
 ],
 "metadata": {
  "kernelspec": {
   "display_name": "Python 3",
   "language": "python",
   "name": "python3"
  },
  "language_info": {
   "codemirror_mode": {
    "name": "ipython",
    "version": 3
   },
   "file_extension": ".py",
   "mimetype": "text/x-python",
   "name": "python",
   "nbconvert_exporter": "python",
   "pygments_lexer": "ipython3",
   "version": "3.7.8"
  }
 },
 "nbformat": 4,
 "nbformat_minor": 4
}
