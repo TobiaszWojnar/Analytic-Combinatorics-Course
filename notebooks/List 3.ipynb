{
 "cells": [
  {
   "cell_type": "markdown",
   "metadata": {},
   "source": [
    "# List 3\n",
    "---\n",
    "## Introductory to analytic combinatorics course at Wroclaw University of Science and Technology 2020/2021\n",
    "---\n",
    "## Deadline: \n",
    "30.11.2020"
   ]
  },
  {
   "cell_type": "markdown",
   "metadata": {},
   "source": [
    "### Exercise 1 (5 points)\n",
    "#### Let $\\mathcal{L}$ be the language over the alphabet $\\{a, b, c\\}$ composed of words that contain pattern $acac$. Describe the appropriate finite automata and present the OFG for $\\mathcal{L}$."
   ]
  },
  {
   "cell_type": "markdown",
   "metadata": {},
   "source": [
    "Having pattern of length 4 finite automa has 5 stages. They are connected by following letters from string, different letters are connected to \"lower\" stages. After reaching 4th stage we stay in it even after appending additional letters."
   ]
  },
  {
   "cell_type": "markdown",
   "metadata": {},
   "source": [
    "![](images/l3_z3_z1.png)"
   ]
  },
  {
   "cell_type": "markdown",
   "metadata": {},
   "source": [
    "To calculate OGF for class $\\mathcal{L}$. Let first how languages $\\mathcal{L}_0$, .., $\\mathcal{L}_4$ are connected together.\n",
    "\n",
    "\\begin{equation}\n",
    "\\mathcal{L}_0=a \\mathcal{L}_1+b \\mathcal{L}_0+c \\mathcal{L_0}\\\\\n",
    "\\mathcal{L}_1=a \\mathcal{L}_1+b \\mathcal{L}_0+c \\mathcal{L_2}\\\\\n",
    "\\mathcal{L}_2=a \\mathcal{L}_3+b \\mathcal{L}_0+c \\mathcal{L_0}\\\\\n",
    "\\mathcal{L}_3=a \\mathcal{L}_1+b \\mathcal{L}_0+c \\mathcal{L_4}\\\\\n",
    "\\mathcal{L}_4=a \\mathcal{L}_4+b \\mathcal{L}_4+c \\mathcal{L}_4 +  \\varepsilon\n",
    "\\end{equation}\n",
    "\n",
    "This gives rise to a set of equations for the associated OGFs\n",
    "\n",
    "\\begin{equation}\n",
    "L_0=z L_0+2z L_0\\\\\n",
    "L_1=z L_0+b z L_1+z L_2\\\\\n",
    "L_2=2z L_0+z L_3\\\\\n",
    "L_3=z L_0+z L_1+z L_4\\\\\n",
    "L_4=3z L_4 +1\n",
    "\\end{equation}\n",
    "\n",
    "And after a lot of algebraic transformations we get\n",
    "\n",
    "$$L_0= \\frac{ z^4}{(3z-1)(z^4-3z^3+z^2-3z+1)} $$"
   ]
  },
  {
   "cell_type": "markdown",
   "metadata": {},
   "source": [
    "### Exercise 2 (4 points)\n",
    "#### How many words of length n are over the alphabet $\\mathcal{A}=\\{a, b, c, d, e, f, g\\}$ that contain the block pattern $\\mathbb{p}=aabbaa$?"
   ]
  },
  {
   "cell_type": "markdown",
   "metadata": {},
   "source": [
    "To calculate the number of words containing pattern $aabbaa$ we can subtract the number not containing pattern from all.\n",
    "\n",
    "We can calculate the number of words that do not contain pattern using formula\n",
    "$$S(z) = \\frac{c(z)}{ (z^k+(1-m z) c(z))}$$\n",
    "\n",
    "Where:\n",
    "\n",
    "**m** is alphabet size $(|\\mathcal{A}|=6)$,\n",
    "\n",
    "**k** is pattern length $(|\\mathbb{p}|=6)$,\n",
    "\n",
    "**c(z)** is the autocorrelation polynomial of a pattern, equal to $c(z)= \\sum_{j=0}^{k-1}c_j z^j$\n",
    "\n",
    "Where $c_i=\\|p_{i+1}p_{i+2}...p_{k}=p_1p_2...p_{k-i}\\|$ equals $1$ or $0$"
   ]
  },
  {
   "cell_type": "code",
   "execution_count": 10,
   "metadata": {},
   "outputs": [
    {
     "data": {
      "text/latex": [
       "$a,a,b,b,a,a$\n",
       "\\begin{align}\n",
       "a,a,b,b,a,a\\phantom{a,a,a,a,a,a,a} &= 1\\\\\n",
       "a,a,b,b,a,a\\phantom{a,a,a,a,a,a} &= 0\\\\\n",
       "a,a,b,b,a,a\\phantom{a,a,a,a,a} &= 0\\\\\n",
       "a,a,b,b,a,a\\phantom{a,a,a,a} &= 0\\\\\n",
       "a,a,b,b,a,a\\phantom{a,a,a} &= 1\\\\\n",
       "a,a,b,b,a,a\\phantom{a,a} &= 1\n",
       "\\end{align}\n"
      ],
      "text/plain": [
       "<IPython.core.display.Latex object>"
      ]
     },
     "metadata": {},
     "output_type": "display_data"
    }
   ],
   "source": [
    "%%latex\n",
    "$a,a,b,b,a,a$\n",
    "\\begin{align}\n",
    "a,a,b,b,a,a\\phantom{a,a,a,a,a,a,a} &= 1\\\\\n",
    "a,a,b,b,a,a\\phantom{a,a,a,a,a,a} &= 0\\\\\n",
    "a,a,b,b,a,a\\phantom{a,a,a,a,a} &= 0\\\\\n",
    "a,a,b,b,a,a\\phantom{a,a,a,a} &= 0\\\\\n",
    "a,a,b,b,a,a\\phantom{a,a,a} &= 1\\\\\n",
    "a,a,b,b,a,a\\phantom{a,a} &= 1\n",
    "\\end{align}"
   ]
  },
  {
   "cell_type": "markdown",
   "metadata": {},
   "source": [
    "$c(z) = 1 + z^4+z^5$\n",
    "\n",
    "We need also a number of words of size n, with equals to $m^n$. So finally the number of words containing pattern equals to $$[z^n]\\mathcal{A}_p(z)=\\frac{1}{1-6 z}-\\frac{1 + z^4+z^5}{ (z^6+(1-6 z) (1+ z^4+z^5)}$$"
   ]
  },
  {
   "cell_type": "markdown",
   "metadata": {},
   "source": [
    "### Exercise 3 (3 points)\n",
    "#### Apply Lagrange inversion theorem to calculate the coefficient with the term $z^n$ for the function $L(z)$, which is a solution of the equation $$\\frac{L(z)}{z}=1+(L(z))^3.$$"
   ]
  },
  {
   "cell_type": "markdown",
   "metadata": {},
   "source": [
    "Let's start by simplifying the equation\n",
    "$$L(z)=z\\left(1+(L(z))^3\\right)$$\n",
    "$$z=\\frac{L(z)}{1+(L(z))^3}$$\n",
    "\n",
    "Now we can use Lagrange Inversion Theorem. It states that:\n",
    "\n",
    "The coefficients of an inverse function and of all its powers are determined by coefficients of powers of the direct function: if $z = T/\\phi(T)$, then one has (with any $k ∈ \\mathcal{Z}\\geq0$):\n",
    "\n",
    "$$[z^n]T(z)=\\frac{1}{n}[\\omega^{n-1}]\\phi(\\omega)^n$$\n",
    "\n",
    "In our case $L(z)=T(z)$, $\\omega=u$ and $\\phi(u)=1+u^3.$\n",
    "\n",
    "$[z^n]L(z)=\\frac{1}{n}[u^{n-1}](1+u^3)^n=\\frac{1}{n}[u^{n-1}]\\sum_{k=0}^{n} \\binom{n}{k} u^{3k}$\n",
    "\n",
    "Let us introduce auxiliary variable $3m+1=n \\rightarrow m=\\frac{n-1}{3}$\n",
    "\n",
    "$[z^n]L(z)=\\frac{1}{n}[u^{3m+1-1}]\\sum_{k=0}^{3m+1} \\binom{3m+1}{k} u^{3k}=\\frac{1}{n}[u^{3m}]\\sum_{k=0}^{3m+1}\\binom{3m+1}{k} u^{3k}=\\frac{1}{n} \\binom{3m+1}{m}=\\frac{1}{n}\\binom{n}{\\frac{n-1}{3}}$"
   ]
  },
  {
   "cell_type": "markdown",
   "metadata": {},
   "source": [
    "### Exercise 4 (4 points)\n",
    "#### Write the formula OFG $S^{(4)}(z)$ such that the coefficient for $z^n$ will be a Stirling number II of the type $S(n, 4)$ that is $[z^n]S^{(4)}(z) = S(n, 4)$."
   ]
  },
  {
   "cell_type": "markdown",
   "metadata": {},
   "source": [
    "$S^{(r)}(z)$ is defined as \n",
    "\n",
    "$$b_1·SEQ(b_1)·b2·SEQ(b_1+b_2)·...·b_r·SEQ(b_1+b_2+···+b_r)$$\n",
    "\n",
    "The language specification immediately gives the OGF\n",
    "$$S^{(r)}(z)=\\frac{z^r}{(1-z)(1-2z)(1-3z)\\cdot...\\cdot(1-rz)}$$\n",
    "\n",
    "The partial fraction expansion of S(r)(z) is then readily computed,\n",
    "$$S^{(r)}(z)=\\frac{1}{r!}\\sum_{j=0}^{r}\\frac{(-1)^{r-j}}{1-jz}$$\n",
    "\n",
    "And for $r=4$ it evaluates to\n",
    "$$S^{(4)}(z)=\\left(1+\n",
    "\\frac{1}{24(1-z)(1-2z)(1-3z)(1-4z)}\\right)$$"
   ]
  }
 ],
 "metadata": {
  "kernelspec": {
   "display_name": "Python 3",
   "language": "python",
   "name": "python3"
  },
  "language_info": {
   "codemirror_mode": {
    "name": "ipython",
    "version": 3
   },
   "file_extension": ".py",
   "mimetype": "text/x-python",
   "name": "python",
   "nbconvert_exporter": "python",
   "pygments_lexer": "ipython3",
   "version": "3.8.3"
  }
 },
 "nbformat": 4,
 "nbformat_minor": 4
}
