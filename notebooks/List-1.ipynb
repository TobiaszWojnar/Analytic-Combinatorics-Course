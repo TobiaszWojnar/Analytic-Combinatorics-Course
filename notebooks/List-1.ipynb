{
 "cells": [
  {
   "cell_type": "markdown",
   "metadata": {},
   "source": [
    "# List 1\n",
    "---\n",
    "## Introductory to analytic combinatorics course at Wroclaw University of Science and Technology 2020/2021\n",
    "---\n",
    "## Deadline: \n",
    "28.10.2020"
   ]
  },
  {
   "cell_type": "markdown",
   "metadata": {},
   "source": [
    "### Exercise 1 (1 points)\n",
    "#### Sequence ($a_1,a_2,...$) corresponds to the generating function $A(z)$. Calculate sequences corresponding to:"
   ]
  },
  {
   "cell_type": "markdown",
   "metadata": {},
   "source": [
    "#### 1. $A'(z)+A(z)$,\n",
    "Let consider how $A(z)$ looks:\n",
    "$$A(z) = \\sum_{n=0}^{\\infty}a_n z^n$$\n",
    "Knowing that let's see what is $A'(z)$\n",
    "\n",
    "$$A'(z) = \\left(\\sum_{n=0}^{\\infty}a_n z^n\\right)'$$\n",
    "\n",
    "$$(a_n z^n)'=n a_n z^{n-1}$$\n",
    "\n",
    "$$A'(z) = \\sum_{n=1}^{\\infty}n a_n z^{n-1}=\\sum_{n=0}^{\\infty}(n+1) a_{n+1} z^{n}$$\n",
    "\n",
    "So finaly\n",
    "$$A'(z)+A(z)=\\sum_{n=0}^{\\infty}(n+1) a_{n+1} z^{n}+\\sum_{n=0}^{\\infty}a_n z^n = \\sum_{n=0}^{\\infty}(a_n+(n+1) a_{n+1}) z^n$$"
   ]
  },
  {
   "cell_type": "markdown",
   "metadata": {},
   "source": [
    "#### 2.  $2A(z)$,\n",
    "$$2A(z) = 2\\left(\\sum_{n=0}^{\\infty}a_n z^n\\right)$$\n",
    "$$2A(z) = \\sum_{n=0}^{\\infty}2 a_n z^n$$"
   ]
  },
  {
   "cell_type": "markdown",
   "metadata": {},
   "source": [
    "#### 3.  $A^2(z)$\n",
    "$$A^2(z)= \\left(\\sum_{n=0}^{\\infty}a_n z^n\\right) \\left(\\sum_{n=0}^{\\infty}a_n z^n\\right) =$$\n",
    "$$\\sum_{n=0}^{\\infty}\\sum_{m=0}^{n}a_n a_m z^n$$"
   ]
  },
  {
   "cell_type": "markdown",
   "metadata": {},
   "source": [
    "### Exercise 2 (3 points)\n",
    "#### Let $\\mathcal{A}=(\\{\\epsilon,1,2,*\\},|\\cdot|)$ and $\\mathcal{B}=(\\{a\\},\\{a\\rightarrow1\\})$ be combinatorial class. Where $|\\epsilon|=0,|1|=1,|2|=2,|*|=5$.\n",
    "#### Describe the following classes (if they exist) and their generating functions:"
   ]
  },
  {
   "cell_type": "markdown",
   "metadata": {},
   "source": [
    "#### (a)  $\\mathcal{A}+\\mathcal{B}$,\n",
    "Sum of classes.\n",
    "$$\\mathcal{A}+\\mathcal{B}=(\\{\\epsilon,1,a,2,*\\},|\\cdot|)$$\n",
    "\n",
    "$$A+B(z)= A(z)+B(z)$$\n",
    "\n",
    "$$A+B(z)=1+z+z^2+z^5+z=1+2z+z^2+z^5$$\n",
    "\n",
    "#### (b)  $\\mathcal{A}\\times \\mathcal{B}$,\n",
    "Cartesian product of classes\n",
    "$$\\mathcal{A}\\times \\mathcal{B}=(\\{(\\epsilon,a),(1,a),(2,a),(*,a)\\},|\\cdot|)$$\n",
    "$$\\mathcal{A}\\times \\mathcal{B}(z)=A(z)\\cdot B(z)=z+z^2+z^3+z^6$$\n",
    "\n",
    "#### (c)  $Seq(\\mathcal{A})$,\n",
    "Does not exist because $\\mathcal{A}_0 = 0$\n",
    "\n",
    "#### (d)  $Seq(\\mathcal{B})$,\n",
    "$Seq(\\mathcal{B})$ is basicly $\\mathbb{N}$ - all natural numbers\n",
    "$$Seq(\\mathcal{B})(z)=\\frac{1}{1-\\mathcal{B}(z)}=\\frac{1}{1-z}=\\sum_{n=0}^{\\infty}z^n$$\n",
    "\n",
    "#### (e)  $Seq(\\mathcal{A}+\\mathcal{B})$,\n",
    "Does not exist because $\\mathcal{A}_0 = 0$\n",
    "\n",
    "#### (f)  $Seq(\\mathcal{A})+Seq(\\mathcal{B})$,\n",
    "Does not exist because $\\mathcal{A}_0 = 0$\n",
    "\n",
    "#### (g)  $MSet(\\mathcal{B})$,\n",
    "Multiset of $\\mathcal{B}$\n",
    "$$MSet(\\mathcal{B})(z)=\\prod_{n>=1}(1-z^n)^{B_n} $$\n",
    "Remembering that $\\mathcal{B}(z)=z$, $B_1 = 1$ and for all others $B_n = 0$\n",
    "$$MSet(\\mathcal{B})(z)=(1-z)^{-1}=\\frac{1}{1-z}$$\n",
    "And that equals to $\\mathbb{N}(z)=\\sum_{n=0}^\\infty z^n$\n",
    "\n",
    "#### (h)  $PSet(\\mathcal{A})+PSet(\\mathcal{B})$,\n",
    "Does not exist because $\\mathcal{A}_0 = 0$\n",
    "\n",
    "#### (i)  $Cyc(\\mathcal{A})$\n",
    "Does not exist because $\\mathcal{A}_0 = 0$"
   ]
  },
  {
   "cell_type": "markdown",
   "metadata": {},
   "source": [
    "### Exercise 3 (1 points)\n",
    "#### When defining $Seq(\\mathcal{A})$ we assumed that $[z^0]A(z)=0$. Why?"
   ]
  },
  {
   "cell_type": "markdown",
   "metadata": {},
   "source": [
    "When defining a combinatorial class we specified 2 conditions:\n",
    "(i) the size of an element is a non-negative integer;\n",
    "(ii) the number of elements of any given size is finite.\n",
    "\n",
    "And when $[z^0]A(z) = 0$, then we can generate an infinite number of elements of any size by appending elements of size 0."
   ]
  },
  {
   "cell_type": "markdown",
   "metadata": {},
   "source": [
    "### Exercise 4 (1 points)\n",
    "#### Calculate $[z^{30}]\\frac{1}{(1-z)^7}$ (without computer, using formulas presented in lecture)."
   ]
  },
  {
   "cell_type": "markdown",
   "metadata": {},
   "source": [
    "Based on formula nr 6 \n",
    "$$ \\frac{1}{(1-y)^{k+1}} = \\sum_{a\\geq0}\\binom{k+a}{k}y^a,$$\n",
    "we get:\n",
    "$$ \\frac{1}{(1-z)^{7}} =  \\sum_{n\\geq0}\\binom{6+n}{6}z^n.$$\n",
    "From that we know that \n",
    "$$[z^{30}]\\frac{1}{(1-z)^7} = \\binom{6+30}{6} =$$ $$ \\frac{36!}{30!\\cdot6!}=\\frac{30\\cdot31\\cdot32\\cdot33\\cdot34\\cdot35\\cdot36}{1\\cdot2\\cdot3\\cdot4\\cdot5\\cdot6}= 58433760$$"
   ]
  },
  {
   "cell_type": "markdown",
   "metadata": {},
   "source": [
    "### Exercise 5 (1 points)\n",
    "#### Study and get understanding of following formulas:\n",
    "\n",
    "1) $ (x+y)^n = \\sum_k \\binom{n}{k}x^ky^{(n-k)} $\n",
    "\n",
    "2) $ \\sum_{i=0}^\\infty q^i = \\frac{1}{1-x} $ dla $(|q|<1)$\n",
    "\n",
    "3) $ \\left(\\sum_{n=0}^\\infty a_nx^n\\right) \\left(\\sum_{n=0}^\\infty b_nx^n\\right) = \\sum_{n=0}^\\infty \\left(\\sum_{k=0}^n a_kb_{n-k}\\right)x^n$\n",
    "\n",
    "4) $\\binom{n+m}{k}=\\sum_j\\binom{n}{j}\\binom{m}{k-j} $\n",
    "\n",
    "5) $ \\frac{y^k}{(1-y)^{k+1}} = \\sum_{n\\geq0}\\binom{n}{k}y^k $\n",
    "\n",
    "6) $ \\frac{1}{(1-y)^{k+1}} = \\sum_{a\\geq0}\\binom{k+a}{k}y^a $"
   ]
  },
  {
   "cell_type": "markdown",
   "metadata": {},
   "source": [
    "### Exercise 6 (3 points)\n",
    "#### Let $\\mathcal{N}$ be a combinatoric class of natural numbers with size function $|a|=a$. Let $\\mathcal{N}_{r,k}$ be a combinatoric class of natural numbers that which give a remainder of dividing $r$ by $k$. Prove that\n",
    "$$ \\mathcal{N} \\simeq \\mathcal{N}_{0,k}+\\mathcal{N}_{1,k}+ ... +\\mathcal{N}_{r-1,k}.$$"
   ]
  },
  {
   "cell_type": "markdown",
   "metadata": {},
   "source": [
    "Let's start by taking a second look at $\\mathcal{N}_{r,k}$\n",
    "$$\\mathcal{N}_{r,k}=(\\{x:(\\forall i\\in \\mathbb{N})(\\exists x_i = i k+r)\\},|\\cdot|)$$\n",
    "\n",
    "$$\\mathcal{N}_{r,k}=(\\{r,k+r,2 k + r,3 k+r, ...\\},|\\cdot|)$$\n",
    "\n",
    "Also, analyze what we need to prove:\n",
    "$$ \\mathcal{N} \\simeq \\mathcal{N}_{0,k}+\\mathcal{N}_{1,k}+ ... +\\mathcal{N}_{r-1,k} = \\sum_{i=0}^{k-1} \\mathcal{N}_{i,k}$$\n",
    "\n",
    "Now\n",
    "$$\\sum_{i=0}^{k-1} \\mathcal{N}_{i,k}(z)=\n",
    "\\sum_{i=0}^{k-1} z^{(i)}+z^{(i+k)}+z^{(i+2k)}+z^{(i+3k)}+... =\n",
    "\\sum_{i=0}^{k-1} \\sum_{n\\geq 0} z^{(i+nk)}=$$\n",
    "$$\\sum_{n\\geq 0} \\sum_{i=0}^{k-1}  z^{(i+nk)}=\\sum_{n\\geq 0} z^{(nk)}+z^{(1+nk)}+z^{(2+nk)}+...+z^{(k-1+nk)}=$$\n",
    "$$\\sum_{n\\geq 0} z^n = \\mathcal{N}(z).$$\n",
    "\n",
    "For that to be a valid proof we need to denote that:\n",
    "* Two combinatorial classes $\\mathcal{A}$ and $\\mathcal{B}$ are said to be isomorphic, which is written $\\mathcal{A} \\cong \\mathcal{B}$, iff their counting sequences are identical.\n",
    "* Definitoin of combinatorial sum $$\\mathcal{A} = \\mathcal{B} + \\mathcal{C}  \\implies     A(z) = B(z)+C(z).$$"
   ]
  }
 ],
 "metadata": {
  "kernelspec": {
   "display_name": "Python 3",
   "language": "python",
   "name": "python3"
  },
  "language_info": {
   "codemirror_mode": {
    "name": "ipython",
    "version": 3
   },
   "file_extension": ".py",
   "mimetype": "text/x-python",
   "name": "python",
   "nbconvert_exporter": "python",
   "pygments_lexer": "ipython3",
   "version": "3.8.3"
  }
 },
 "nbformat": 4,
 "nbformat_minor": 4
}
