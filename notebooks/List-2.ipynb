{
 "cells": [
  {
   "cell_type": "markdown",
   "metadata": {},
   "source": [
    "# List 2\n",
    "---\n",
    "## Introductory to analytic combinatorics course at Wroclaw University of Science and Technology 2020/2021\n",
    "---\n",
    "## Deadline: \n",
    "11.11.2020"
   ]
  },
  {
   "cell_type": "markdown",
   "metadata": {},
   "source": [
    "### Exercise 1 (3 points)\n",
    "#### Having an infinite number of beads w 4 colors, calculate how many necklaces of size 3 can we create."
   ]
  },
  {
   "cell_type": "markdown",
   "metadata": {},
   "source": [
    "First look at construction cycles form different combinatorial class\n",
    "$$\\mathcal{A}= Cyc(\\mathcal{B}) \\implies A(z)=\\sum_{k=1}^{\\infty}\\frac{\\phi(k)}{k}log\\frac{1}{1-B(z^k)}$$\n",
    "\n",
    "where $\\mathcal{B}$ is our \"alphabet\" class\n",
    "$$\\mathcal{B}=(\\{a,b,c,d\\},\\{\\{a,b,c,d\\}\\rightarrow1\\}).$$\n",
    "\n",
    "OGF: $B(z)=4z$\n",
    "\n",
    "We are interested in $[z^3]A(z)$\n",
    "\n",
    "$$[z^3]A(z)=[z^3]\\sum_{k=1}^{\\infty}\\frac{\\phi(k)}{k}log\\frac{1}{1-B(z^k)}=[z^3]\\sum_{k=1}^{\\infty}\\frac{\\phi(k)}{k}log\\frac{1}{1-4z^k}$$\n",
    "\n",
    "Now we need to deal with $log\\frac{1}{1-4z^k}$. We will expand it in seriece according to following equation\n",
    "\n",
    "$$log\\frac{1}{1-x}=\\sum_{i=1}^{\\infty}\\frac{x^i}{i}$$\n",
    "\n",
    "$$[z^3]\\sum_{k=1}^{\\infty}\\frac{\\phi(k)}{k}\\sum_{n=1}^{\\infty}\\frac{(4z^k)^n}{n}=[z^3]\\sum_{k=1}^{\\infty}\\left(\\frac{\\phi(k)}{k}\\sum_{n=1}^{\\infty}\\frac{4^n}{n}z^{kn}\\right)=\n",
    "[z^3]\\sum_{k\\geq1,~n\\geq1}\\left(\\frac{\\phi(k)}{k}\\frac{4^n}{n}\\right)z^{kn}$$\n",
    "\n",
    "To get $[z^3]$ we need to consider what pairs of integers $(k,n)$ after multiplying are equal to $3$.\n",
    "\n",
    "We have two such pairs $\\{(3,1),(1,3)\\}$, so\n",
    "\n",
    "$$[z^3]A(z)=\n",
    "\\frac{\\phi(3)}{3}\\cdot\\frac{4^1}{1}+\\frac{\\phi(1)}{1}\\cdot\\frac{4^3}{3}=\n",
    "\\frac{\\phi(3)\\cdot4+\\phi(1)\\cdot4^3}{3}=\n",
    "\\frac{64\\cdot8}{3} = 24.$$"
   ]
  },
  {
   "cell_type": "markdown",
   "metadata": {},
   "source": [
    "### Exercise 2 (4 points)\n",
    "#### Give the formula for OGF for combinatorial class of ordered plane trees with nodes having 0 or 2 children."
   ]
  },
  {
   "cell_type": "markdown",
   "metadata": {},
   "source": [
    "The Combinatorial class of ordered plane trees with nodes having 0 or 2 children is described by the following formula\n",
    "$$ \\mathcal{T} \\cong \\mathcal{Z} + \\mathcal{Z} \\times \\mathcal{T} \\times \\mathcal{T} $$\n",
    "That corresponds to having for each subtree root and zero children ($\\mathcal{Z}$) or root and two children ($\\mathcal{Z} \\times  \\mathcal{T} \\times \\mathcal{T}$).\n",
    "\n",
    "OGF equals\n",
    "$$ T(z)=z+zT(z)^2 $$\n",
    "\n",
    "Now simplify\n",
    "$$ 0=zT(z)^2 -T(z) +z \\to \\Delta=1-4z^2$$\n",
    "$$T(z)=\\frac{1-\\sqrt{1-4z^2}}{2z}$$\n",
    "\n",
    "Ok, but it is not easy to see how many trees of specific size are there, for that we will use Lagrange Inversion Theorem. It states that if the function can be express as $z=\\frac{\\phi(T(z))}{T(z)}$, the following is true\n",
    "$$ [z^n] T(z) = \\frac{1}{n} \\left[u^{n-1}\\right] \\phi(u)^n $$\n",
    "\n",
    "In our case $\\phi(u)=1+u^2$, so\n",
    "$$[z^n] T(z) = \\frac{1}{n} \\left[u^{n-1}\\right] \\left(1+u^2\\right)^n = \\frac{1}{n} \\left[u^{n-1}\\right]\\sum_{k=0}^{n}\\binom{n}{k}u^{2k}$$\n",
    "\n",
    "Let us introduce auxiliary variable $2m+1=n \\rightarrow m=\\frac{n-1}{2}$\n",
    "$$[z^n] T(z) =\n",
    "\\frac{1}{n} \\left[u^{2m}\\right]\\sum_{k=0}^{2m}\\binom{2m}{k}u^{2k}=\n",
    "\\frac{1}{n}\\binom{2m}{m}=\n",
    "\\frac{1}{n}\\binom{n-1}{\\frac{n-1}{2}}$$"
   ]
  },
  {
   "cell_type": "markdown",
   "metadata": {},
   "source": [
    "Let's check\n",
    "\n",
    "**One node** - One tree.\n",
    "![](../images/l2_z2_1_node.png)\n",
    "\n",
    "**Two nodes** - We can not create such a tree.\n",
    "\n",
    "**Tree nodes** - One tree.\n",
    "<img src=\"../images/l2_z2_3_node.png\" alt=\"3 node trees\" width=\"100\"/>\n",
    "\n",
    "**Four nodes** - We can not create such a tree.\n",
    "\n",
    "**Five nodes** - Two trees.\n",
    "<img src=\"../images/l2_z2_5_node.png\" alt=\"5 node trees\" width=\"300\"/>\n",
    "\n",
    "**Six nodes** - We can not create such a tree.\n",
    "\n",
    "**Seven nodes** - Five trees.\n",
    "<img src=\"../images/l2_z2_7_node.png\" alt=\"7 node trees\" width=\"350\"/>\n",
    "\n",
    "**Eight nodes** - We can not create such a tree.\n",
    "\n",
    "**nine nodes** - Fourteen trees.\n",
    "<img src=\"../images/l2_z2_9_node_1.png\" alt=\"9 node trees\" width=\"400\"/>\n",
    "<img src=\"../images/l2_z2_9_node_2.png\" alt=\"9 node trees\" width=\"400\"/>\n",
    "\n",
    "**Ten nodes** - We can not create such a tree.\n",
    "\n",
    "Checking at [The On-Line Encyclopedia of Integer Sequences (OEIS)](https://oeis.org/) get confirmation that our formula is correct."
   ]
  },
  {
   "cell_type": "code",
   "execution_count": null,
   "metadata": {},
   "outputs": [],
   "source": []
  }
 ],
 "metadata": {
  "kernelspec": {
   "display_name": "Python 3",
   "language": "python",
   "name": "python3"
  },
  "language_info": {
   "codemirror_mode": {
    "name": "ipython",
    "version": 3
   },
   "file_extension": ".py",
   "mimetype": "text/x-python",
   "name": "python",
   "nbconvert_exporter": "python",
   "pygments_lexer": "ipython3",
   "version": "3.8.3"
  }
 },
 "nbformat": 4,
 "nbformat_minor": 4
}
