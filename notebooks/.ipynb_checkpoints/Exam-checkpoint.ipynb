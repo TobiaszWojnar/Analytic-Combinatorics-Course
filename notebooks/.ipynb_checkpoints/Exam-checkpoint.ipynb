{
 "cells": [
  {
   "cell_type": "markdown",
   "metadata": {},
   "source": [
    "# Exam\n",
    "---\n",
    "## Introductory to analytic combinatorics course at Wroclaw University of Science and Technology 2020/2021\n",
    "---\n",
    "## Date: \n",
    "21.12.2020"
   ]
  },
  {
   "cell_type": "markdown",
   "metadata": {},
   "source": [
    "### Exercise 1 (1 points)\n",
    "#### Let $\\mathcal{A}=(A,||)$, where $A=\\{a,b\\}$, $|a|=1$ and $|b|=2$ .  What is the OGF for class $Cyc(\\mathcal{A})$ and $PSet(\\mathcal{A})$."
   ]
  },
  {
   "cell_type": "markdown",
   "metadata": {},
   "source": []
  },
  {
   "cell_type": "markdown",
   "metadata": {},
   "source": [
    "### Exercise 2 (1 points)\n",
    "#### Let $\\mathcal{A}=(A,||)$ be combinatorical class of words over alphabet $\\{a,b,c,d\\}$. What is the OGF for $\\mathcal{A}$."
   ]
  },
  {
   "cell_type": "markdown",
   "metadata": {},
   "source": []
  },
  {
   "cell_type": "markdown",
   "metadata": {},
   "source": [
    "### Exercise 3 (1 points)\n",
    "#### Expand function $A(z)=\\frac{z}{1+az}+\\frac{1}{1-z}$ in $0$ for constant $a>0$."
   ]
  },
  {
   "cell_type": "markdown",
   "metadata": {},
   "source": [
    "a is positive so we need to channge to $A(z)=\\frac{z}{1-(-az)}+\\frac{1}{1-z}$ Co drugi wyraz jest dodatni"
   ]
  },
  {
   "cell_type": "markdown",
   "metadata": {},
   "source": [
    "### Exercise 4 (1 points)\n",
    "#### What is the number of triangulation of 100-polygon."
   ]
  },
  {
   "cell_type": "markdown",
   "metadata": {},
   "source": []
  },
  {
   "cell_type": "markdown",
   "metadata": {},
   "source": [
    "### Exercise 5 (1 points)\n",
    "#### Santa Claus has 3 distinguishable presents worth 5 PLN, 5 distinguishable presents worth 20 PLN and 100 distinguishable presents worth 1 PLN. On how many ways can he create a package worth 50 PLN?"
   ]
  },
  {
   "cell_type": "markdown",
   "metadata": {},
   "source": []
  },
  {
   "cell_type": "markdown",
   "metadata": {},
   "source": [
    "### Exercise 6 (1 points)\n",
    "#### What is the EGF of class of permutations that decompose into exacly 3 cycles with a length of at most 20."
   ]
  },
  {
   "cell_type": "markdown",
   "metadata": {},
   "source": []
  },
  {
   "cell_type": "markdown",
   "metadata": {},
   "source": [
    "### Exercise 7 (1 points)\n",
    "#### Using Lagrange Inverce Theroem determine n'th-element of seriece expantion of $T(z)$ function, deefined by equation \n",
    "$$T(z)=z\\sum_{k=0}^{\\infty}(T(z)-1)^k+1$$"
   ]
  },
  {
   "cell_type": "markdown",
   "metadata": {},
   "source": []
  },
  {
   "cell_type": "markdown",
   "metadata": {},
   "source": [
    "### Exercise 8 (1 points)\n",
    "#### Let $\\mathcal{W}$ be finate set of strings (words) over alphabet $\\{a,b,c,d\\}$. Let $|x|$ be length of string and $\\chi(x)$ be number of occurance in x letter different than $d$. Let $\\mathcal{W}=(W,||,\\chi)$ be combinatorical class. What is BFG for $\\mathcal{W}$."
   ]
  },
  {
   "cell_type": "markdown",
   "metadata": {},
   "source": []
  },
  {
   "cell_type": "markdown",
   "metadata": {},
   "source": [
    "### Exercise 9 (1 points)\n",
    "#### Let $r>1$ and $$X(z)=\\frac{z^2+1}{(1-zr)^4(1-z)}.$$ Give the possible exact asymptotic of $[z^n]X(z)$"
   ]
  },
  {
   "cell_type": "markdown",
   "metadata": {},
   "source": []
  },
  {
   "cell_type": "markdown",
   "metadata": {},
   "source": [
    "### Exercise 10 (1 points)\n",
    "#### Let $a_0 = 1,~a_1=5$ and for $n>1$ $$a_n=a_{n-1}+a_{n-2}.$$ What is the generating function of sequence $a_n$ and its asymptotic."
   ]
  },
  {
   "cell_type": "markdown",
   "metadata": {},
   "source": []
  }
 ],
 "metadata": {
  "kernelspec": {
   "display_name": "Python 3",
   "language": "python",
   "name": "python3"
  },
  "language_info": {
   "codemirror_mode": {
    "name": "ipython",
    "version": 3
   },
   "file_extension": ".py",
   "mimetype": "text/x-python",
   "name": "python",
   "nbconvert_exporter": "python",
   "pygments_lexer": "ipython3",
   "version": "3.8.3"
  }
 },
 "nbformat": 4,
 "nbformat_minor": 4
}
