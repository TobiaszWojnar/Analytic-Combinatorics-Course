{
 "cells": [
  {
   "cell_type": "markdown",
   "metadata": {},
   "source": [
    "# Exam\n",
    "---\n",
    "## Introductory to analytic combinatorics course at Wroclaw University of Science and Technology 2020/2021\n",
    "---"
   ]
  },
  {
   "cell_type": "markdown",
   "metadata": {},
   "source": [
    "### Exercise 1 (1 points)\n",
    "#### Expand function $A(z)=\\frac{z^3}{1-3z}$ in $0$."
   ]
  },
  {
   "cell_type": "markdown",
   "metadata": {},
   "source": [
    "### Exercise 2 (1 points)\n",
    "#### On how many ways can we withdraw 200 PLN having infinite number of 1 PLN, 2 PLN, 5 PLN and 10 PLN? Coins and bills are distinguishable."
   ]
  },
  {
   "cell_type": "markdown",
   "metadata": {},
   "source": [
    "### Exercise 3 (1 points)\n",
    "#### What is OFG for Fibonacci sequence."
   ]
  },
  {
   "cell_type": "markdown",
   "metadata": {},
   "source": [
    "### Exercise 4 (1 points)\n",
    "#### What is EGF of permutatuon class decomposed into 2 cycles."
   ]
  },
  {
   "cell_type": "markdown",
   "metadata": {},
   "source": [
    "### Exercise 5 (1 points)\n",
    "#### Using Lagrange Inverce Theroem determine n'th-element of seriece expantion of $T(z)$ function, deefined by equation \n",
    "$$T(z)=z(T(z))^2+z+1$$"
   ]
  },
  {
   "cell_type": "markdown",
   "metadata": {},
   "source": [
    "### Exercise 6 (1 points)\n",
    "#### Let $\\mathcal{L}$ be the language over the alphabet $\\{a, b\\}$ composed of words that contain pattern $aaa$. Describe the appropriate finite automata.  How many such words of length 1000 are there?"
   ]
  },
  {
   "cell_type": "markdown",
   "metadata": {},
   "source": [
    "### Exercise 7 (1 points)\n",
    "#### Let $\\mathcal{W}$ be finate set of strings (words) over alphabet $\\{a,b,c,d\\}$. Let $|x|$ be length of string and $\\chi(x)$ be number of occurance in x letter $a$. Let $\\mathcal{W}=(W,||,\\chi)$ be combinatorical class. What is BFG for $\\mathcal{W}$."
   ]
  },
  {
   "cell_type": "markdown",
   "metadata": {},
   "source": [
    "### Exercise 8 (1 points)\n",
    "#### How many functions are there from set $\\{1,...,n\\} \\to \\{1,...,r\\}$, that inverse image for each element has at least 2 elements?"
   ]
  },
  {
   "cell_type": "markdown",
   "metadata": {},
   "source": [
    "### Exercise 9 (1 points)\n",
    "#### Let $r>1$ and $$X(z)=\\frac{z+1}{(1-zr)^2(1-z)}.$$ Give the possible exact asymptotic of $[z^n]X(z)$"
   ]
  },
  {
   "cell_type": "markdown",
   "metadata": {},
   "source": [
    "### Exercise 10 (1 points)\n",
    "#### How many ordered trees having $r$ nodes are there, that each node has at most 3 children?"
   ]
  }
 ],
 "metadata": {
  "kernelspec": {
   "display_name": "Python 3",
   "language": "python",
   "name": "python3"
  },
  "language_info": {
   "codemirror_mode": {
    "name": "ipython",
    "version": 3
   },
   "file_extension": ".py",
   "mimetype": "text/x-python",
   "name": "python",
   "nbconvert_exporter": "python",
   "pygments_lexer": "ipython3",
   "version": "3.8.3"
  }
 },
 "nbformat": 4,
 "nbformat_minor": 4
}
