{
 "cells": [
  {
   "cell_type": "markdown",
   "metadata": {},
   "source": [
    "# List 4\n",
    "---\n",
    "## Introductory to analytic combinatorics course at Wroclaw University of Science and Technology 2020/2021\n",
    "---\n",
    "## Deadline: \n",
    "21.12.2020"
   ]
  },
  {
   "cell_type": "markdown",
   "metadata": {},
   "source": [
    "### Exercise 1 (2 points)\n",
    "#### Let structure $\\alpha$  of size 3 be labeled with permutation $2-1-3$ and structure $\\beta$  of size 2 be labeled with permutation $2-1$. Describe $\\alpha * \\beta$.\n",
    "\n",
    "$\\alpha * \\beta$ is labeled with integers $\\{1,2,3,4,5\\}$\n",
    "\n",
    "$$|\\alpha * \\beta|={{5}\\choose{2}}=10$$ \n",
    "\n",
    "$$\\alpha * \\beta = [(②-①-③,⑤-④),(②-①-④,⑤-③),(③-①-④,⑤-②),(③-②-④,⑤-①),(②-①-⑤,④-③),(③-①-⑤,④-②),(③-②-⑤,④-①),(④-①-⑤,③-②),(④-②-⑤,③-①),(④-③-⑤,②-①)]$$"
   ]
  },
  {
   "cell_type": "markdown",
   "metadata": {},
   "source": [
    "### Exercise 2 (3 points)\n",
    "#### Describe EGF for class of permutations, that have at most 5 cycles.\n",
    "\n",
    "Before we get the final EGF function we need to start by preparing its parts, so:\n",
    "$$\\mathcal{P}=SET(CYC(\\mathcal{Z}))$$\n",
    "$$Cyc(\\mathcal{A})=log\\frac{1}{1-\\mathcal{A}}$$\n",
    "$$Set(\\mathcal{A})=exp(\\mathcal{A})$$\n",
    "Number of premutations with r cycles is \n",
    "$$\\mathcal{P^{(r)}}=SET_r(CYC(\\mathcal{Z}))$$\n",
    "So if we want to get permutations, that have at most 5 cycles. We need to consider \n",
    "$$\\bigcup_{i=1}^5\\mathcal{P^{(i)}}$$\n",
    "Now we can get to writing down EGF function.\n",
    "$$\\left(\\bigcup_{i=1}^5\\mathcal{P^{(i)}}\\right)(z) = \\sum_{i=1}^5\\left(\\mathcal{P^{(i)}}(z)\\right) =$$\n",
    "$$\\sum_{i=1}^5SET_i(CYC(\\mathcal{Z}))(z)=\\sum_{i=1}^5SET_i\\left(log\\frac{1}{1-z}\\right)(z)=$$\n",
    "$$\\sum_{i=1}^5 \\frac{1}{i!}\\left(log\\frac{1}{1-z}\\right)^i(z)$$\n",
    "\n",
    "THe exact number of such permutations is a sum of Stirling numbers of the first kind.\n",
    "\n",
    "$$ \\sum_{i=1}^5 {n\\brack i}$$"
   ]
  },
  {
   "cell_type": "markdown",
   "metadata": {},
   "source": [
    "### Exercise 3 (3 points)\n",
    "#### Describe EGF for k–surjection of set with n elemnts onto set with r elements, that is, functions such that each element form [1...r] set has at least k-element inverse image.\n",
    "\n",
    "Firstly lets consider all surections with r images.\n",
    "$$\\mathcal{S_n^{(r)}}=SEQ_r(SET_{\\geq 1}(\\mathcal{Z}))$$\n",
    "Now lets ensure that we count only those that k-element inverse image condition.\n",
    "\n",
    "$$\\mathcal{S_n^{(r)}}=SEQ_r(SET_{\\geq k}(\\mathcal{Z}))$$\n",
    "Let's get inside this function firstly by expanding $SET$ function. We need to remember to remove 'by hand' sets of size smaller than $k$.\n",
    "$$\\mathcal{S_n^{(r)}}(z)=SEQ_r\\left(exp(z)-\\left(1+z+\\frac{z^2}{2}+\\frac{z^3}{6}\\right)\\right)$$\n",
    "And now expand $SEQ$ function\n",
    "$$\\mathcal{S_n^{(r)}}(z)=\\left(e^z-\\left(1+z+\\frac{z^2}{2}+\\frac{z^3}{6}\\right)\\right)^r$$\n",
    "Let's simplify it a bit more\n",
    "$$[z^n]\\sum_{i=0}^r {r\\choose i} e^{zi}\\left(1+z+\\frac{z^2}{2}+\\frac{z^3}{6}\\right)^{n-i}$$"
   ]
  }
 ],
 "metadata": {
  "kernelspec": {
   "display_name": "Python 3",
   "language": "python",
   "name": "python3"
  },
  "language_info": {
   "codemirror_mode": {
    "name": "ipython",
    "version": 3
   },
   "file_extension": ".py",
   "mimetype": "text/x-python",
   "name": "python",
   "nbconvert_exporter": "python",
   "pygments_lexer": "ipython3",
   "version": "3.8.3"
  }
 },
 "nbformat": 4,
 "nbformat_minor": 4
}
